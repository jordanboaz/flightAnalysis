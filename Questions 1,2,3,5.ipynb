{
 "cells": [
  {
   "cell_type": "markdown",
   "metadata": {},
   "source": [
    "### Import file from current directory"
   ]
  },
  {
   "cell_type": "code",
   "execution_count": 1,
   "metadata": {},
   "outputs": [],
   "source": [
    "import os"
   ]
  },
  {
   "cell_type": "code",
   "execution_count": 2,
   "metadata": {},
   "outputs": [],
   "source": [
    "cwd = os.getcwd()\n",
    "file = 'file://{}/flight_data.csv'.format(cwd)"
   ]
  },
  {
   "cell_type": "markdown",
   "metadata": {},
   "source": [
    "### Start a spark session"
   ]
  },
  {
   "cell_type": "code",
   "execution_count": 3,
   "metadata": {},
   "outputs": [],
   "source": [
    "spark = SparkSession.builder.getOrCreate()"
   ]
  },
  {
   "cell_type": "code",
   "execution_count": 4,
   "metadata": {},
   "outputs": [],
   "source": [
    "df = spark.read.csv(file, header=True, inferSchema=True)"
   ]
  },
  {
   "cell_type": "code",
   "execution_count": 5,
   "metadata": {},
   "outputs": [
    {
     "name": "stdout",
     "output_type": "stream",
     "text": [
      "+----------+--------------+--------------+----+-----------------+------+\n",
      "|Data_Venda|Canal_de_Venda|Local_de_Venda| PAX|Monetario_Vendido|   RPK|\n",
      "+----------+--------------+--------------+----+-----------------+------+\n",
      "| 11/1/2016|     Telegrafo|     Mindscape|  30|         2,188.11|  3476|\n",
      "| 11/1/2016|     TeleVenda|         Arena|  52|         3,302.38|  8197|\n",
      "| 11/1/2016|     TeleVenda|     Mindscape|  19|         1,041.54|  2425|\n",
      "| 11/1/2016| Porta a Porta|     Mindscape| 496|        15,566.34| 53278|\n",
      "| 11/1/2016|     TeleVenda|          Vast|  46|         2,721.43|  2039|\n",
      "| 11/1/2016|     TeleVenda|         Arena| 485|        19,002.65| 66096|\n",
      "| 11/1/2016|     TeleVenda|          Vast| 701|        11,588.27| 30866|\n",
      "| 11/1/2016|     Telegrafo|         Arena|  39|         3,538.39|  5471|\n",
      "| 11/1/2016|     TeleVenda|      Ellipsis|  44|         2,277.59|  2788|\n",
      "| 11/1/2016| Porta a Porta|          Vast| 910|        14,451.80| 40112|\n",
      "| 11/1/2016|     Telegrafo|      Ellipsis|  18|         1,187.12|  1127|\n",
      "| 11/1/2016|     TeleVenda|     Mindscape| 425|        12,875.54| 48274|\n",
      "| 11/1/2016| Porta a Porta|      Ellipsis| 383|         9,065.62| 20355|\n",
      "| 11/1/2016|     Telegrafo|          Vast|  47|         3,244.38|  2055|\n",
      "| 11/1/2016|     TeleVenda|      Ellipsis| 406|         9,846.59| 22846|\n",
      "| 11/1/2016| Porta a Porta|         Arena| 437|        18,994.87| 58074|\n",
      "| 11/2/2016|     TeleVenda|      Ellipsis|1007|        29,177.23| 54696|\n",
      "| 11/2/2016| Porta a Porta|         Arena| 900|        42,869.44|119470|\n",
      "| 11/2/2016|     TeleVenda|     Mindscape|1029|        39,705.82|122484|\n",
      "| 11/2/2016|     TeleVenda|         Arena| 166|        11,210.85| 25105|\n",
      "+----------+--------------+--------------+----+-----------------+------+\n",
      "only showing top 20 rows\n",
      "\n"
     ]
    }
   ],
   "source": [
    "df.show()"
   ]
  },
  {
   "cell_type": "code",
   "execution_count": 6,
   "metadata": {},
   "outputs": [
    {
     "data": {
      "text/plain": [
       "DataFrame[summary: string, Data_Venda: string, Canal_de_Venda: string, Local_de_Venda: string, PAX: string, Monetario_Vendido: string, RPK: string]"
      ]
     },
     "execution_count": 6,
     "metadata": {},
     "output_type": "execute_result"
    }
   ],
   "source": [
    "df.describe()"
   ]
  },
  {
   "cell_type": "markdown",
   "metadata": {},
   "source": [
    "### Clean some data\n",
    "##### As we can see, some important info are on a invalid format, such as Data_Venda.We need it to be a type of date. We also need to transform 'Monetario_Vendido' to float"
   ]
  },
  {
   "cell_type": "code",
   "execution_count": 7,
   "metadata": {},
   "outputs": [],
   "source": [
    "from pyspark.sql.functions import to_date, unix_timestamp, from_unixtime, regexp_replace\n"
   ]
  },
  {
   "cell_type": "code",
   "execution_count": 8,
   "metadata": {},
   "outputs": [],
   "source": [
    "df = df.withColumn(colName='Data_Venda', col=from_unixtime(unix_timestamp(df.Data_Venda, 'MM/dd/yyy')))"
   ]
  },
  {
   "cell_type": "code",
   "execution_count": 9,
   "metadata": {},
   "outputs": [],
   "source": [
    "df = df.withColumn('Monetario_Vendido', regexp_replace('Monetario_Vendido', ',', ''))\n",
    "df = df.withColumn('Monetario_Vendido', df['Monetario_Vendido'].cast(\"float\"))\n"
   ]
  },
  {
   "cell_type": "code",
   "execution_count": 10,
   "metadata": {},
   "outputs": [
    {
     "name": "stdout",
     "output_type": "stream",
     "text": [
      "root\n",
      " |-- Data_Venda: string (nullable = true)\n",
      " |-- Canal_de_Venda: string (nullable = true)\n",
      " |-- Local_de_Venda: string (nullable = true)\n",
      " |-- PAX: integer (nullable = true)\n",
      " |-- Monetario_Vendido: float (nullable = true)\n",
      " |-- RPK: integer (nullable = true)\n",
      "\n"
     ]
    }
   ],
   "source": [
    "df.printSchema()"
   ]
  },
  {
   "cell_type": "code",
   "execution_count": 11,
   "metadata": {},
   "outputs": [
    {
     "name": "stdout",
     "output_type": "stream",
     "text": [
      "+-------------------+--------------+--------------+----+-----------------+------+\n",
      "|         Data_Venda|Canal_de_Venda|Local_de_Venda| PAX|Monetario_Vendido|   RPK|\n",
      "+-------------------+--------------+--------------+----+-----------------+------+\n",
      "|2016-11-01 00:00:00|     Telegrafo|     Mindscape|  30|          2188.11|  3476|\n",
      "|2016-11-01 00:00:00|     TeleVenda|         Arena|  52|          3302.38|  8197|\n",
      "|2016-11-01 00:00:00|     TeleVenda|     Mindscape|  19|          1041.54|  2425|\n",
      "|2016-11-01 00:00:00| Porta a Porta|     Mindscape| 496|         15566.34| 53278|\n",
      "|2016-11-01 00:00:00|     TeleVenda|          Vast|  46|          2721.43|  2039|\n",
      "|2016-11-01 00:00:00|     TeleVenda|         Arena| 485|         19002.65| 66096|\n",
      "|2016-11-01 00:00:00|     TeleVenda|          Vast| 701|         11588.27| 30866|\n",
      "|2016-11-01 00:00:00|     Telegrafo|         Arena|  39|          3538.39|  5471|\n",
      "|2016-11-01 00:00:00|     TeleVenda|      Ellipsis|  44|          2277.59|  2788|\n",
      "|2016-11-01 00:00:00| Porta a Porta|          Vast| 910|          14451.8| 40112|\n",
      "|2016-11-01 00:00:00|     Telegrafo|      Ellipsis|  18|          1187.12|  1127|\n",
      "|2016-11-01 00:00:00|     TeleVenda|     Mindscape| 425|         12875.54| 48274|\n",
      "|2016-11-01 00:00:00| Porta a Porta|      Ellipsis| 383|          9065.62| 20355|\n",
      "|2016-11-01 00:00:00|     Telegrafo|          Vast|  47|          3244.38|  2055|\n",
      "|2016-11-01 00:00:00|     TeleVenda|      Ellipsis| 406|          9846.59| 22846|\n",
      "|2016-11-01 00:00:00| Porta a Porta|         Arena| 437|         18994.87| 58074|\n",
      "|2016-11-02 00:00:00|     TeleVenda|      Ellipsis|1007|         29177.23| 54696|\n",
      "|2016-11-02 00:00:00| Porta a Porta|         Arena| 900|         42869.44|119470|\n",
      "|2016-11-02 00:00:00|     TeleVenda|     Mindscape|1029|         39705.82|122484|\n",
      "|2016-11-02 00:00:00|     TeleVenda|         Arena| 166|         11210.85| 25105|\n",
      "+-------------------+--------------+--------------+----+-----------------+------+\n",
      "only showing top 20 rows\n",
      "\n"
     ]
    }
   ],
   "source": [
    "df.show()"
   ]
  },
  {
   "cell_type": "markdown",
   "metadata": {},
   "source": [
    " "
   ]
  },
  {
   "cell_type": "markdown",
   "metadata": {},
   "source": [
    " "
   ]
  },
  {
   "cell_type": "markdown",
   "metadata": {},
   "source": [
    " "
   ]
  },
  {
   "cell_type": "markdown",
   "metadata": {},
   "source": [
    "# 1"
   ]
  },
  {
   "cell_type": "markdown",
   "metadata": {},
   "source": [
    "#### To answer the first question, which is a ranking of PAX values for day of the week, we have to manipulate our dataframe by the days of the week."
   ]
  },
  {
   "cell_type": "code",
   "execution_count": 12,
   "metadata": {},
   "outputs": [],
   "source": [
    "from pyspark.sql.functions import dayofweek, date_format\n",
    "import matplotlib.pyplot as plt\n",
    "import pandas as pd"
   ]
  },
  {
   "cell_type": "code",
   "execution_count": 13,
   "metadata": {},
   "outputs": [],
   "source": [
    "withDayOfWeek = df.withColumn('DayOfWeek', date_format('Data_Venda', 'EEEE'))\n"
   ]
  },
  {
   "cell_type": "code",
   "execution_count": 14,
   "metadata": {},
   "outputs": [],
   "source": [
    "paxByDayOfWeek = withDayOfWeek.select(withDayOfWeek.columns).groupBy(['DayOfWeek']).sum('PAX')"
   ]
  },
  {
   "cell_type": "code",
   "execution_count": 15,
   "metadata": {},
   "outputs": [
    {
     "name": "stdout",
     "output_type": "stream",
     "text": [
      "+---------+--------+\n",
      "|DayOfWeek|sum(PAX)|\n",
      "+---------+--------+\n",
      "|Wednesday|  293025|\n",
      "|  Tuesday|  219802|\n",
      "|   Friday|  255625|\n",
      "| Thursday|  258488|\n",
      "| Saturday|  253467|\n",
      "|   Monday|  236316|\n",
      "|   Sunday|  241620|\n",
      "+---------+--------+\n",
      "\n"
     ]
    }
   ],
   "source": [
    "paxByDayOfWeek.show()"
   ]
  },
  {
   "cell_type": "markdown",
   "metadata": {},
   "source": [
    "#### Now, that we have grouped it all together, we just need to order it and we will have a ranking"
   ]
  },
  {
   "cell_type": "code",
   "execution_count": 16,
   "metadata": {},
   "outputs": [
    {
     "name": "stdout",
     "output_type": "stream",
     "text": [
      "+---------+--------+\n",
      "|DayOfWeek|sum(PAX)|\n",
      "+---------+--------+\n",
      "|Wednesday|  293025|\n",
      "| Thursday|  258488|\n",
      "|   Friday|  255625|\n",
      "| Saturday|  253467|\n",
      "|   Sunday|  241620|\n",
      "|   Monday|  236316|\n",
      "|  Tuesday|  219802|\n",
      "+---------+--------+\n",
      "\n"
     ]
    }
   ],
   "source": [
    "paxByDayOfWeek.orderBy('sum(PAX)', ascending=False).show()"
   ]
  },
  {
   "cell_type": "markdown",
   "metadata": {},
   "source": [
    " "
   ]
  },
  {
   "cell_type": "markdown",
   "metadata": {},
   "source": [
    " "
   ]
  },
  {
   "cell_type": "markdown",
   "metadata": {},
   "source": [
    " "
   ]
  },
  {
   "cell_type": "markdown",
   "metadata": {},
   "source": [
    "# 2"
   ]
  },
  {
   "cell_type": "markdown",
   "metadata": {},
   "source": [
    "#### The second question asks for the correlation between Saturdays and Sunday for the total number of RPK"
   ]
  },
  {
   "cell_type": "code",
   "execution_count": 44,
   "metadata": {},
   "outputs": [],
   "source": [
    "from pyspark.sql.functions import sum, weekofyear"
   ]
  },
  {
   "cell_type": "markdown",
   "metadata": {},
   "source": [
    "##### We need to aggregate weekdays and weekend info into columns "
   ]
  },
  {
   "cell_type": "code",
   "execution_count": 45,
   "metadata": {},
   "outputs": [],
   "source": [
    "WeekOfYear = df.withColumn('WeekOfYear', weekofyear('Data_Venda'))\n",
    "dayOfWeek = WeekOfYear.withColumn('DayOfWeek', date_format('Data_Venda', 'EEEE'))"
   ]
  },
  {
   "cell_type": "code",
   "execution_count": 46,
   "metadata": {},
   "outputs": [
    {
     "name": "stdout",
     "output_type": "stream",
     "text": [
      "+----------+-------+-------+--------+-------+--------+-------+---------+\n",
      "|WeekOfYear| Friday| Monday|Saturday| Sunday|Thursday|Tuesday|Wednesday|\n",
      "+----------+-------+-------+--------+-------+--------+-------+---------+\n",
      "|        44| 968225|      0| 1069765|1151471| 1051716| 367479|   837263|\n",
      "|        12| 913536| 853830| 1132903|1074563| 1210062| 884447|  1266718|\n",
      "|        47| 973077| 672603|  977747| 982092|  996507| 618017|  1011891|\n",
      "|         1|1164142| 996003| 1268820|1258248| 1281244| 938424|  1291757|\n",
      "|        52| 930336| 756871|  991491|1151843|  622785| 588396|   635117|\n",
      "|        13|1113547| 897943| 1089231|      0| 1122293| 794130|  1166537|\n",
      "|         6|1085007|2437811|  989582| 628719|  991076|2267341|  1582783|\n",
      "|         3|1071148| 561508|  976881|1067681| 1010266| 580471|  1126931|\n",
      "|        48|1047006| 655612| 1012842|1021314| 1032888| 630365|  1039745|\n",
      "|         5| 985864| 682811| 1095524|1180881|  971198| 658690|  1043005|\n",
      "|         9|1171968| 783970| 1231246|1128220| 1214836| 656256|   917325|\n",
      "|         4|1113473|1010786| 1024804| 942194| 1020909| 846345|  1150794|\n",
      "|         8| 997170|1223986| 1004183| 972519| 1028300|1170796|  1338067|\n",
      "|        49|1028457| 773686|  997462|1075568| 1040056| 685301|  1071994|\n",
      "|         7|1040612| 568946| 1263646|1871748| 1045816| 548667|  1075001|\n",
      "|        51| 882738| 606096|  861477| 912861|  913148| 562732|   974540|\n",
      "|        10|1201275| 912176| 1012528| 981934| 1245013| 843906|  1270573|\n",
      "|        50| 901650|2115590|  816795| 870190|  941908|1601461|  1324252|\n",
      "|        45|1261532| 911383| 1173772|1346138| 1200507| 786739|  1256742|\n",
      "|        11|1365648| 677058| 1235940|1090139| 1393974| 631297|  1191082|\n",
      "+----------+-------+-------+--------+-------+--------+-------+---------+\n",
      "only showing top 20 rows\n",
      "\n"
     ]
    }
   ],
   "source": [
    "pivotted = dayOfWeek.groupBy(dayOfWeek['WeekOfYear']).pivot('DayOfWeek').sum('RPK')\n",
    "pivotted = pivotted.fillna(0)\n",
    "pivotted.show()"
   ]
  },
  {
   "cell_type": "code",
   "execution_count": 47,
   "metadata": {},
   "outputs": [],
   "source": [
    "weekdays = pivotted.withColumn('Weekdays', (pivotted['Monday'] + pivotted['Tuesday'] +pivotted['Wednesday'] +pivotted['Thursday'] + pivotted['Friday']))\n"
   ]
  },
  {
   "cell_type": "code",
   "execution_count": 51,
   "metadata": {},
   "outputs": [
    {
     "name": "stdout",
     "output_type": "stream",
     "text": [
      "+----------+--------+--------+\n",
      "|WeekOfYear|Weekdays|Weekends|\n",
      "+----------+--------+--------+\n",
      "|        44| 3224683| 2221236|\n",
      "|        12| 5128593| 2207466|\n",
      "|        47| 4272095| 1959839|\n",
      "|         1| 5671570| 2527068|\n",
      "|        52| 3533505| 2143334|\n",
      "|        13| 5094450| 1089231|\n",
      "|         6| 8364018| 1618301|\n",
      "|         3| 4350324| 2044562|\n",
      "|        48| 4405616| 2034156|\n",
      "|         5| 4341568| 2276405|\n",
      "|         9| 4744355| 2359466|\n",
      "|         4| 5142307| 1966998|\n",
      "|         8| 5758319| 1976702|\n",
      "|        49| 4599494| 2073030|\n",
      "|         7| 4279042| 3135394|\n",
      "|        51| 3939254| 1774338|\n",
      "|        10| 5472943| 1994462|\n",
      "|        50| 6884861| 1686985|\n",
      "|        45| 5416903| 2519910|\n",
      "|        11| 5259059| 2326079|\n",
      "+----------+--------+--------+\n",
      "only showing top 20 rows\n",
      "\n"
     ]
    }
   ],
   "source": [
    "weekdaysAndWeekends = weekdays.withColumn('Weekends', (pivotted['Saturday'] + pivotted['Sunday']))\n",
    "weekdaysAndWeekends = weekdaysAndWeekends.drop('Monday', 'Tuesday', 'Wednesday', 'Thursday', 'Friday', 'Saturday', 'Sunday')\n",
    "weekdaysAndWeekends.show()\n"
   ]
  },
  {
   "cell_type": "code",
   "execution_count": 52,
   "metadata": {},
   "outputs": [],
   "source": [
    "corr_mat= weekdaysAndWeekends.corr('Weekdays', 'Weekends', method=\"pearson\")\n"
   ]
  },
  {
   "cell_type": "code",
   "execution_count": 53,
   "metadata": {},
   "outputs": [
    {
     "data": {
      "text/plain": [
       "-0.36205369993300873"
      ]
     },
     "execution_count": 53,
     "metadata": {},
     "output_type": "execute_result"
    }
   ],
   "source": [
    "corr_mat"
   ]
  },
  {
   "cell_type": "code",
   "execution_count": 54,
   "metadata": {},
   "outputs": [
    {
     "name": "stderr",
     "output_type": "stream",
     "text": [
      "/opt/anaconda3/lib/python3.6/site-packages/matplotlib/cbook/__init__.py:2062: FutureWarning: Support for multi-dimensional indexing (e.g. `obj[:, None]`) is deprecated and will be removed in a future version.  Convert to a numpy array before indexing instead.\n",
      "  x[:, None]\n",
      "/opt/anaconda3/lib/python3.6/site-packages/matplotlib/axes/_base.py:248: FutureWarning: Support for multi-dimensional indexing (e.g. `obj[:, None]`) is deprecated and will be removed in a future version.  Convert to a numpy array before indexing instead.\n",
      "  x = x[:, np.newaxis]\n",
      "/opt/anaconda3/lib/python3.6/site-packages/matplotlib/axes/_base.py:250: FutureWarning: Support for multi-dimensional indexing (e.g. `obj[:, None]`) is deprecated and will be removed in a future version.  Convert to a numpy array before indexing instead.\n",
      "  y = y[:, np.newaxis]\n"
     ]
    },
    {
     "data": {
      "text/plain": [
       "[<matplotlib.lines.Line2D at 0x7fb08d4452e8>]"
      ]
     },
     "execution_count": 54,
     "metadata": {},
     "output_type": "execute_result"
    },
    {
     "data": {
      "image/png": "[encoded data removed]",
      "text/plain": [
       "<Figure size 432x288 with 1 Axes>"
      ]
     },
     "metadata": {},
     "output_type": "display_data"
    }
   ],
   "source": [
    "x = weekdaysAndWeekends.toPandas()\n",
    "plt.plot( x['Weekends'], x['Weekdays'], 'bo')\n"
   ]
  },
  {
   "cell_type": "markdown",
   "metadata": {},
   "source": [
    " "
   ]
  },
  {
   "cell_type": "markdown",
   "metadata": {},
   "source": [
    " \n",
    " \n",
    " \n",
    " \n",
    " \n",
    " \n",
    " "
   ]
  },
  {
   "cell_type": "markdown",
   "metadata": {},
   "source": [
    " "
   ]
  },
  {
   "cell_type": "markdown",
   "metadata": {},
   "source": [
    "# 3"
   ]
  },
  {
   "cell_type": "markdown",
   "metadata": {},
   "source": [
    "#### Next, we are asked what is the mean and the median by Channel for month.\n"
   ]
  },
  {
   "cell_type": "code",
   "execution_count": null,
   "metadata": {},
   "outputs": [],
   "source": [
    "from pyspark.sql.functions import month\n"
   ]
  },
  {
   "cell_type": "code",
   "execution_count": null,
   "metadata": {},
   "outputs": [],
   "source": [
    "withMonth = df.withColumn('Month', month('Data_Venda'))"
   ]
  },
  {
   "cell_type": "code",
   "execution_count": null,
   "metadata": {},
   "outputs": [],
   "source": [
    "grouppedByMonthAndChannel = withMonth.select(withMonth.columns).groupBy(['Canal_de_Venda', 'Month'])"
   ]
  },
  {
   "cell_type": "markdown",
   "metadata": {},
   "source": [
    "#### The mean is:"
   ]
  },
  {
   "cell_type": "code",
   "execution_count": null,
   "metadata": {},
   "outputs": [],
   "source": [
    "meanGrouppedByMonthAndChannel = grouppedByMonthAndChannel.mean('Monetario_Vendido')"
   ]
  },
  {
   "cell_type": "code",
   "execution_count": null,
   "metadata": {},
   "outputs": [],
   "source": [
    "meanGrouppedByMonthAndChannel.select(meanGrouppedByMonthAndChannel.columns).orderBy(['Canal_de_Venda', 'Month'], ascending=True).show()"
   ]
  },
  {
   "cell_type": "markdown",
   "metadata": {},
   "source": [
    "#### And the median is:"
   ]
  },
  {
   "cell_type": "code",
   "execution_count": null,
   "metadata": {},
   "outputs": [],
   "source": [
    "from pyspark.sql.functions import expr\n"
   ]
  },
  {
   "cell_type": "code",
   "execution_count": null,
   "metadata": {},
   "outputs": [],
   "source": [
    " medianGrouppedByMonthAndChannel = grouppedByMonthAndChannel.agg(expr('percentile(Monetario_Vendido, array(0.5))')[0].alias('Median'))\n"
   ]
  },
  {
   "cell_type": "code",
   "execution_count": null,
   "metadata": {},
   "outputs": [],
   "source": [
    "medianGrouppedByMonthAndChannel.select(medianGrouppedByMonthAndChannel.columns).orderBy(['Canal_de_Venda', 'Month'], ascending=True).show()"
   ]
  },
  {
   "cell_type": "markdown",
   "metadata": {},
   "source": [
    " "
   ]
  },
  {
   "cell_type": "markdown",
   "metadata": {},
   "source": [
    " "
   ]
  },
  {
   "cell_type": "markdown",
   "metadata": {},
   "source": [
    " "
   ]
  },
  {
   "cell_type": "markdown",
   "metadata": {},
   "source": [
    "# 5"
   ]
  },
  {
   "cell_type": "markdown",
   "metadata": {},
   "source": [
    "#### Supondo que você precisa gerar um estudo para a área responsável, com base em qualquer modelo ou premissa, qual ‘Local de Venda’ você considera mais crítico. Por quê?\n"
   ]
  },
  {
   "cell_type": "code",
   "execution_count": 55,
   "metadata": {},
   "outputs": [
    {
     "data": {
      "text/plain": [
       "[Row(Local_de_Venda='Ellipsis'),\n",
       " Row(Local_de_Venda='Mindscape'),\n",
       " Row(Local_de_Venda='Arena'),\n",
       " Row(Local_de_Venda='Vast')]"
      ]
     },
     "execution_count": 55,
     "metadata": {},
     "output_type": "execute_result"
    }
   ],
   "source": [
    "locals = df.select(df['Local_de_Venda']).distinct().collect()\n",
    "locals"
   ]
  },
  {
   "cell_type": "code",
   "execution_count": 69,
   "metadata": {},
   "outputs": [],
   "source": [
    "localsDict = {}\n",
    "for local in locals:\n",
    "    series = df.select(['Data_Venda', 'PAX']).filter(df['Local_de_Venda'] == local[0]).groupBy('Data_Venda').sum()\n",
    "    series =  series.withColumnRenamed(existing='sum(PAX)', new='PAX')\n",
    "    localsDict[local[0]] = series.toPandas()"
   ]
  },
  {
   "cell_type": "code",
   "execution_count": 73,
   "metadata": {},
   "outputs": [
    {
     "data": {
      "text/plain": [
       "(2000, 8000)"
      ]
     },
     "execution_count": 73,
     "metadata": {},
     "output_type": "execute_result"
    },
    {
     "data": {
      "image/png": "[encoded data removed]",
      "text/plain": [
       "<Figure size 1440x360 with 4 Axes>"
      ]
     },
     "metadata": {},
     "output_type": "display_data"
    }
   ],
   "source": [
    "\n",
    "fig, (axs1, axs2, axs3, axs4) = plt.subplots(1,4, figsize=(20,5))\n",
    "fig.suptitle('Boxplot PAX from Locals')\n",
    "axs1.boxplot(localsDict['Ellipsis']['PAX'])\n",
    "axs1.set_title(\"Ellipsis\")\n",
    "axs2.boxplot(localsDict['Mindscape']['PAX'])\n",
    "axs2.set_title(\"Mindscape\")\n",
    "axs3.boxplot(localsDict['Arena']['PAX'])\n",
    "axs3.set_title(\"Arena\")\n",
    "axs4.boxplot(localsDict['Vast']['PAX'])\n",
    "axs4.set_title(\"Vast\")\n",
    "plt.ylim(2000, 8000)\n",
    "\n",
    "\n"
   ]
  },
  {
   "cell_type": "markdown",
   "metadata": {},
   "source": [
    " "
   ]
  },
  {
   "cell_type": "markdown",
   "metadata": {},
   "source": [
    " "
   ]
  }
 ],
 "metadata": {
  "kernelspec": {
   "display_name": "PySpark",
   "language": "python",
   "name": "pyspark"
  },
  "language_info": {
   "codemirror_mode": {
    "name": "ipython",
    "version": 3
   },
   "file_extension": ".py",
   "mimetype": "text/x-python",
   "name": "python",
   "nbconvert_exporter": "python",
   "pygments_lexer": "ipython3",
   "version": "3.6.10"
  }
 },
 "nbformat": 4,
 "nbformat_minor": 2
}
